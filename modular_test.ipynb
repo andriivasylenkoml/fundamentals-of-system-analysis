{
 "cells": [
  {
   "cell_type": "markdown",
   "id": "be1e3d60",
   "metadata": {},
   "source": [
    "Check the adequacy of the model y(x) = b0 + b1 ⋅ x1 by Fisher's exact test based on the data in the table and with a known measurement error σ^2 =0.05. The tabular value of Fisher's exact test for a given confidence probability Fкр(α) =2.5.\n",
    "\n",
    "No. | Expert values ​​(y_i) | Predicted values ​​(ŷ_i)\n",
    "----------------------------------------------------\n",
    "1 | 0.1 | 0.0\n",
    "2 | 0.7 | 0.5\n",
    "3 | 0.9 | 1.0\n",
    "4 | 1.7 | 1.5\n",
    "5 | 1.9 | 2.0\n",
    "6 | 2.1 | 2.5"
   ]
  },
  {
   "cell_type": "code",
   "execution_count": 2,
   "id": "50073813",
   "metadata": {},
   "outputs": [],
   "source": [
    "import numpy as np"
   ]
  },
  {
   "cell_type": "code",
   "execution_count": 6,
   "id": "3bed06cd",
   "metadata": {},
   "outputs": [
    {
     "name": "stdout",
     "output_type": "stream",
     "text": [
      "Residuals: [ 0.1  0.2 -0.1  0.2 -0.1 -0.4]\n"
     ]
    }
   ],
   "source": [
    "# Data.\n",
    "y_actual = np.array([0.1, 0.7, 0.9, 1.7, 1.9, 2.1])\n",
    "y_predicted = np.array([0.0, 0.5, 1.0, 1.5, 2.0, 2.5])\n",
    "sigma = 0.05\n",
    "F_critical = 2.5\n",
    "\n",
    "# Calculating the remainders\n",
    "residuals = y_actual - y_predicted\n",
    "print(\"Residuals:\", residuals)\n"
   ]
  },
  {
   "cell_type": "code",
   "execution_count": 7,
   "id": "c7632ce8",
   "metadata": {},
   "outputs": [
    {
     "name": "stdout",
     "output_type": "stream",
     "text": [
      "Number of observations: 6\n"
     ]
    }
   ],
   "source": [
    "# Number of observations\n",
    "n = len(y_actual)\n",
    "print(\"Number of observations:\", n)"
   ]
  },
  {
   "cell_type": "code",
   "execution_count": 9,
   "id": "1842cb16",
   "metadata": {},
   "outputs": [
    {
     "name": "stdout",
     "output_type": "stream",
     "text": [
      "Sum of squares of residuals: 0.2699999999999999\n"
     ]
    }
   ],
   "source": [
    "# Calculate the variance of residuals (S_residual)\n",
    "S_residual = np.sum(residuals**2)\n",
    "print(\"Sum of squares of residuals:\", S_residual)"
   ]
  },
  {
   "cell_type": "code",
   "execution_count": 10,
   "id": "21206ab7",
   "metadata": {},
   "outputs": [
    {
     "name": "stdout",
     "output_type": "stream",
     "text": [
      "Sum of squares of model: 4.375\n"
     ]
    }
   ],
   "source": [
    "# Calculate the variance of model (S_models)\n",
    "S_models = np.sum((y_predicted - np.mean(y_predicted))**2)\n",
    "print(\"Sum of squares of model:\", S_models)"
   ]
  },
  {
   "cell_type": "code",
   "execution_count": 14,
   "id": "2d855be6",
   "metadata": {},
   "outputs": [
    {
     "name": "stdout",
     "output_type": "stream",
     "text": [
      "F-actual: 64.81481481481484\n"
     ]
    }
   ],
   "source": [
    "# Number of model parameters (2: bo and b1)\n",
    "k = 2\n",
    "# F-actual (actual value)\n",
    "F_fact = (S_models / (k - 1)) / (S_residual / (n - k))\n",
    "print(\"F-actual:\", F_fact)"
   ]
  },
  {
   "cell_type": "markdown",
   "id": "7423bb75",
   "metadata": {},
   "source": [
    "Since Ffact > Freq (64.84 > 2.5), then:\n",
    "\n",
    "The model is adequate — it describes the relationship between the variables well."
   ]
  }
 ],
 "metadata": {
  "kernelspec": {
   "display_name": ".env",
   "language": "python",
   "name": "python3"
  },
  "language_info": {
   "codemirror_mode": {
    "name": "ipython",
    "version": 3
   },
   "file_extension": ".py",
   "mimetype": "text/x-python",
   "name": "python",
   "nbconvert_exporter": "python",
   "pygments_lexer": "ipython3",
   "version": "3.11.11"
  }
 },
 "nbformat": 4,
 "nbformat_minor": 5
}
